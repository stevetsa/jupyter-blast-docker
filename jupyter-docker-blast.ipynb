{
 "cells": [
  {
   "cell_type": "markdown",
   "metadata": {},
   "source": [
    "# BLAST Docker Jupyter Notebook\n",
    "\n",
    "This notebook is created from NCBI's [BLAST Docker documentation](https://github.com/ncbi/docker/tree/master/blast) using a customized [BLAST]((https://www.ncbi.nlm.nih.gov/books/NBK279690/) and [E-direct](https://www.ncbi.nlm.nih.gov/books/NBK179288/) Docker image. \n"
   ]
  },
  {
   "cell_type": "markdown",
   "metadata": {},
   "source": [
    "# What is NCBI BLAST?<a class=\"anchor\" id=\"what-is-ncbi-blast\"></a>\n",
    "The National Center for Biotechnology Information (NCBI) Basic Local Alignment Search Tool [(BLAST)](https://www.ncbi.nlm.nih.gov/pubmed/2231712) finds regions of local similarity between sequences. The program compares nucleotide or protein sequences to sequence databases and calculates the statistical significance of matches. BLAST can be used to infer functional and evolutionary relationships between sequences as well as help identify members of gene families.\n",
    "\n",
    "For a full description of the features and capabilities of BLAST+, please refer to the [BLAST Command Line Applications User Manual](https://www.ncbi.nlm.nih.gov/books/NBK279690/)."
   ]
  },
  {
   "cell_type": "markdown",
   "metadata": {},
   "source": [
    "## How to use this notebook?<a class=\"anchor\" id=\"how-to-use-this-image\"></a>\n",
    "\n",
    "Jupyter Notebook is a powerful way to share free text and code.  Take a look at the [documentation](https://jupyter-notebook-beginner-guide.readthedocs.io/en/latest/) if you are not familiar with Jupyter Notebook.  The tools are already installed using Docker in the environment that generated this notebook.  \n"
   ]
  },
  {
   "cell_type": "markdown",
   "metadata": {},
   "source": [
    "### Data provisioning<a class=\"anchor\" id=\"data-provisioning\"></a>\n",
    "To create directories to save data, please run the following command block.  First, click anywhere inside the code box (in grey), then click the \"Run\" button above (or by pressing shift + enter).\n"
   ]
  },
  {
   "cell_type": "code",
   "execution_count": 4,
   "metadata": {},
   "outputs": [
    {
     "name": "stdout",
     "output_type": "stream",
     "text": [
      "mkdir: blastdb: File exists\n",
      "mkdir: queries: File exists\n",
      "mkdir: fasta: File exists\n",
      "mkdir: results: File exists\n",
      "mkdir: blastdb_custom: File exists\n",
      "total 40\n",
      "drwxr-xr-x  9 hsang  staff    288 Apr 16 11:18 \u001b[34m.\u001b[m\u001b[m\n",
      "drwxr-xr-x  3 hsang  staff     96 Apr 16 10:13 \u001b[34m..\u001b[m\u001b[m\n",
      "drwxr-xr-x  3 hsang  staff     96 Apr 16 10:13 \u001b[34m.ipynb_checkpoints\u001b[m\u001b[m\n",
      "-rw-r--r--  1 hsang  staff  17474 Apr 16 11:17 Untitled.ipynb\n",
      "drwxr-xr-x  2 hsang  staff     64 Apr 16 11:18 \u001b[34mblastdb\u001b[m\u001b[m\n",
      "drwxr-xr-x  2 hsang  staff     64 Apr 16 11:18 \u001b[34mblastdb_custom\u001b[m\u001b[m\n",
      "drwxr-xr-x  2 hsang  staff     64 Apr 16 11:18 \u001b[34mfasta\u001b[m\u001b[m\n",
      "drwxr-xr-x  2 hsang  staff     64 Apr 16 11:18 \u001b[34mqueries\u001b[m\u001b[m\n",
      "drwxr-xr-x  2 hsang  staff     64 Apr 16 11:18 \u001b[34mresults\u001b[m\u001b[m\n"
     ]
    }
   ],
   "source": [
    "!cd \n",
    "!mkdir blastdb queries fasta results blastdb_custom\n",
    "!ls -al"
   ]
  },
  {
   "cell_type": "markdown",
   "metadata": {},
   "source": [
    "To populate these directories with sample data used in these examples, please\n",
    "run the commands below:"
   ]
  },
  {
   "cell_type": "code",
   "execution_count": null,
   "metadata": {},
   "outputs": [],
   "source": [
    "!efetch -db protein -format fasta \\\n",
    "    -id P01349 > $HOME/queries/P01349.fsa\n",
    "!efetch -db protein -format fasta \\\n",
    "    -id Q90523,P80049,P83981,P83982,P83983,P83977,P83984,P83985,P27950 \\\n",
    "    > $HOME/fasta/nurse-shark-proteins.fsa"
   ]
  },
  {
   "cell_type": "markdown",
   "metadata": {},
   "source": [
    "### Install NCBI-provided BLAST databases<a class=\"anchor\" id=\"install-ncbi-provided-blast-databases\"></a>\n",
    "\n",
    "The following command will download the `swissprot_v5` BLAST database from\n",
    "Google Cloud Platform (GCP) into `$HOME/blastdb`"
   ]
  },
  {
   "cell_type": "code",
   "execution_count": null,
   "metadata": {},
   "outputs": [],
   "source": [
    "!update_blastdb.pl --source gcp swissprot_v5"
   ]
  },
  {
   "cell_type": "markdown",
   "metadata": {},
   "source": [
    "### Make and install my own BLAST databases<a class=\"anchor\" id=\"make-and-install-my-own-blast-databases\"></a>\n",
    "\n",
    "If you have your own sequence data in a file called\n",
    "`$HOME/fasta/sequences.fsa` and want to make a BLAST database, please run the\n",
    "command below:"
   ]
  },
  {
   "cell_type": "code",
   "execution_count": null,
   "metadata": {},
   "outputs": [],
   "source": [
    "!makeblastdb -in /blast/fasta/nurse-shark-proteins.fsa -dbtype prot \\\n",
    "    -parse_seqids -out nurse-shark-proteins -title \"Nurse shark proteins\" \\\n",
    "    -taxid 7801 -blastdb_version 5"
   ]
  },
  {
   "cell_type": "markdown",
   "metadata": {},
   "source": [
    "To verify the newly created BLAST database above, one can run the command\n",
    "below to display the accessions, sequence length and common name of the\n",
    "sequences in the database:"
   ]
  },
  {
   "cell_type": "code",
   "execution_count": null,
   "metadata": {},
   "outputs": [],
   "source": [
    "!blastdbcmd -entry all -db nurse-shark-proteins -outfmt \"%a %l %C\""
   ]
  },
  {
   "cell_type": "markdown",
   "metadata": {},
   "source": [
    "### Show available BLAST databases on local host<a class=\"anchor\" id=\"show-avaiable-blast-databases-on-local-host\"></a>"
   ]
  },
  {
   "cell_type": "code",
   "execution_count": null,
   "metadata": {},
   "outputs": [],
   "source": [
    "!blastdbcmd -list /blast/blastdb -remove_redundant_dbs"
   ]
  },
  {
   "cell_type": "markdown",
   "metadata": {},
   "source": [
    "### Show BLAST databases available for download from NCBI<a class=\"anchor\" id=\"show-blast-databases-available-to-download-from-ncbi\"></a>"
   ]
  },
  {
   "cell_type": "code",
   "execution_count": null,
   "metadata": {},
   "outputs": [],
   "source": [
    "!update_blastdb.pl --showall --source ncbi"
   ]
  },
  {
   "cell_type": "markdown",
   "metadata": {},
   "source": [
    "For instructions on how to download them, please [the documentation for update_blastdb.pl][update_blastdb_doc]."
   ]
  },
  {
   "cell_type": "markdown",
   "metadata": {},
   "source": [
    "### Show BLAST databases available for download from GCP<a class=\"anchor\" id=\"show-blast-databases-available-for-download-from-gcp\"></a>\n",
    "\n",
    "*This feature is experimental*.  "
   ]
  },
  {
   "cell_type": "code",
   "execution_count": null,
   "metadata": {},
   "outputs": [],
   "source": [
    "!update_blastdb.pl --showall pretty --source gcp\n",
    " "
   ]
  },
  {
   "cell_type": "markdown",
   "metadata": {},
   "source": [
    "For instructions on how to download them, please [the documentation for update_blastdb.pl](https://www.ncbi.nlm.nih.gov/books/NBK62345/)."
   ]
  },
  {
   "cell_type": "markdown",
   "metadata": {},
   "source": [
    "## Running BLAST<a class=\"anchor\" id=\"running-blast\"></a>"
   ]
  },
  {
   "cell_type": "markdown",
   "metadata": {},
   "source": [
    "To run a BLAST search, one can issue the following command:\n"
   ]
  },
  {
   "cell_type": "code",
   "execution_count": null,
   "metadata": {},
   "outputs": [],
   "source": [
    "!blastp -query /blast/queries/P01349.fsa -db nurse-shark-proteins -out /blast/results/blastp.out"
   ]
  },
  {
   "cell_type": "markdown",
   "metadata": {},
   "source": [
    "The results will be stored on the local host's `$HOME/results` directory."
   ]
  }
 ],
 "metadata": {
  "kernelspec": {
   "display_name": "Python 3",
   "language": "python",
   "name": "python3"
  },
  "language_info": {
   "codemirror_mode": {
    "name": "ipython",
    "version": 3
   },
   "file_extension": ".py",
   "mimetype": "text/x-python",
   "name": "python",
   "nbconvert_exporter": "python",
   "pygments_lexer": "ipython3",
   "version": "3.7.3"
  },
  "toc": {
   "base_numbering": 1,
   "nav_menu": {},
   "number_sections": true,
   "sideBar": true,
   "skip_h1_title": false,
   "title_cell": "Table of Contents",
   "title_sidebar": "Contents",
   "toc_cell": false,
   "toc_position": {},
   "toc_section_display": true,
   "toc_window_display": false
  }
 },
 "nbformat": 4,
 "nbformat_minor": 2
}
